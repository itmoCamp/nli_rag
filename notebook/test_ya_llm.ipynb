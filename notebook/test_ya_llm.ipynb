{
 "cells": [
  {
   "cell_type": "code",
   "execution_count": 1,
   "id": "fdb21c69",
   "metadata": {},
   "outputs": [],
   "source": [
    "from yandex_cloud_ml_sdk import YCloudML\n",
    "import os"
   ]
  },
  {
   "cell_type": "code",
   "execution_count": 5,
   "id": "e59c483b",
   "metadata": {},
   "outputs": [],
   "source": [
    "IAM_TOKEN = os.environ['IAM_TOKEN']"
   ]
  },
  {
   "cell_type": "markdown",
   "id": "a291dccc",
   "metadata": {},
   "source": [
    "## Генерация текста"
   ]
  },
  {
   "cell_type": "code",
   "execution_count": 6,
   "id": "f29ee69b",
   "metadata": {},
   "outputs": [],
   "source": [
    "sdk = YCloudML(\n",
    "    folder_id=\"b1gkgpmndjiq18fogad0\", auth=IAM_TOKEN\n",
    ")\n",
    "\n",
    "model = sdk.models.completions(\"yandexgpt-lite\", model_version=\"rc\")"
   ]
  },
  {
   "cell_type": "code",
   "execution_count": 15,
   "id": "e906d0f5",
   "metadata": {},
   "outputs": [],
   "source": [
    "model = model.configure(temperature=0.1)\n",
    "result = model.run(\n",
    "    [\n",
    "        {\"role\": \"system\", \"text\": \"Ты - помощник по написанию резюме. Помоги мне составить резюме. Укажи, что я ищу работу в IT. Непиши ничего кроме резюме\"},\n",
    "        {\n",
    "            \"role\": \"user\",\n",
    "            \"text\": \"Напиши шаблон резюме\",\n",
    "        },\n",
    "    ]\n",
    ")"
   ]
  },
  {
   "cell_type": "code",
   "execution_count": 16,
   "id": "e7595f8b",
   "metadata": {},
   "outputs": [
    {
     "name": "stdout",
     "output_type": "stream",
     "text": [
      "**ФИО:**\n",
      "\n",
      "**Контактная информация:**\n",
      "(телефон, электронная почта)\n",
      "\n",
      "**Цель:**\n",
      "Поиск работы в сфере IT\n",
      "\n",
      "**Образование:**\n",
      "(название учебного заведения, специальность, год окончания)\n",
      "\n",
      "**Опыт работы:**\n",
      "(название компании, должность, период работы, должностные обязанности, достижения)\n",
      "\n",
      "**Навыки:**\n",
      "(технические навыки, знание языков программирования, опыт работы с инструментами и технологиями, soft skills)\n",
      "\n",
      "**Личные качества:**\n",
      "(коммуникабельность, ответственность, умение работать в команде, аналитические способности и т. д.)\n",
      "\n",
      "**Дополнительная информация:**\n",
      "(сертификаты, курсы, участие в проектах, волонтёрство и т. п.)\n"
     ]
    }
   ],
   "source": [
    "print(result.alternatives[0].text)"
   ]
  },
  {
   "cell_type": "markdown",
   "id": "85fbda0f",
   "metadata": {},
   "source": [
    "## Эмбедер"
   ]
  },
  {
   "cell_type": "code",
   "execution_count": null,
   "id": "67fb4a69",
   "metadata": {},
   "outputs": [],
   "source": [
    "import numpy as np\n",
    "from scipy.spatial.distance import cdist"
   ]
  },
  {
   "cell_type": "code",
   "execution_count": 18,
   "id": "e905edad",
   "metadata": {},
   "outputs": [],
   "source": [
    "doc_texts = [\n",
    "    \"\"\"Александр Сергеевич Пушкин (26 мая [6 июня] 1799, Москва — 29 января [10 февраля] 1837, Санкт-Петербург)\n",
    "    — русский поэт, драматург и прозаик, заложивший основы русского реалистического направления,\n",
    "    литературный критик и теоретик литературы, историк, публицист, журналист.\"\"\",\n",
    "    \"\"\"Ромашка — род однолетних цветковых растений семейства астровые,\n",
    "    или сложноцветные, по современной классификации объединяет около 70 видов невысоких пахучих трав,\n",
    "    цветущих с первого года жизни.\"\"\",\n",
    "]\n",
    "query_text = \"когда день рождения Пушкина?\""
   ]
  },
  {
   "cell_type": "code",
   "execution_count": 19,
   "id": "2b222439",
   "metadata": {},
   "outputs": [],
   "source": [
    "query_model = sdk.models.text_embeddings(\"query\")\n",
    "doc_model = sdk.models.text_embeddings(\"doc\")"
   ]
  },
  {
   "cell_type": "code",
   "execution_count": null,
   "id": "467346f5",
   "metadata": {},
   "outputs": [
    {
     "name": "stdout",
     "output_type": "stream",
     "text": [
      "Александр Сергеевич Пушкин (26 мая [6 июня] 1799, Москва — 29 января [10 февраля] 1837, Санкт-Петербург)\n",
      "    — русский поэт, драматург и прозаик, заложивший основы русского реалистического направления,\n",
      "    литературный критик и теоретик литературы, историк, публицист, журналист.\n"
     ]
    }
   ],
   "source": [
    "query_embedding = query_model.run(query_text)\n",
    "doc_embeddings = [doc_model.run(text) for text in doc_texts]\n",
    "\n",
    "query_embedding = np.array(query_embedding)\n",
    "dist = cdist([query_embedding], doc_embeddings, metric=\"cosine\")\n",
    "sim = 1 - dist\n",
    "result = doc_texts[np.argmax(sim)]\n",
    "print(result)"
   ]
  },
  {
   "cell_type": "code",
   "execution_count": 21,
   "id": "cd5e6a86",
   "metadata": {},
   "outputs": [
    {
     "name": "stdout",
     "output_type": "stream",
     "text": [
      "[[0.413733   0.00132607]]\n"
     ]
    }
   ],
   "source": [
    "print(sim)"
   ]
  },
  {
   "cell_type": "code",
   "execution_count": 25,
   "id": "06ba32ee",
   "metadata": {},
   "outputs": [
    {
     "data": {
      "text/plain": [
       "256"
      ]
     },
     "execution_count": 25,
     "metadata": {},
     "output_type": "execute_result"
    }
   ],
   "source": [
    "len(query_embedding)"
   ]
  }
 ],
 "metadata": {
  "kernelspec": {
   "display_name": "base",
   "language": "python",
   "name": "python3"
  },
  "language_info": {
   "codemirror_mode": {
    "name": "ipython",
    "version": 3
   },
   "file_extension": ".py",
   "mimetype": "text/x-python",
   "name": "python",
   "nbconvert_exporter": "python",
   "pygments_lexer": "ipython3",
   "version": "3.13.2"
  }
 },
 "nbformat": 4,
 "nbformat_minor": 5
}
